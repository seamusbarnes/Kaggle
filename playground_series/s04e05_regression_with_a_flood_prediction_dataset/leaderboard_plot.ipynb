{
 "cells": [
  {
   "cell_type": "code",
   "execution_count": 4,
   "metadata": {},
   "outputs": [],
   "source": [
    "import os\n",
    "import pandas as pd\n",
    "import matplotlib.pyplot as plt"
   ]
  },
  {
   "cell_type": "code",
   "execution_count": 9,
   "metadata": {},
   "outputs": [],
   "source": [
    "df = pd.read_csv(os.path.join('playground_series/s04e05_regression_with_a_flood_prediction_dataset/data', 'leaderboard_05_04.csv'))"
   ]
  },
  {
   "cell_type": "code",
   "execution_count": 10,
   "metadata": {},
   "outputs": [
    {
     "data": {
      "text/html": [
       "<div>\n",
       "<style scoped>\n",
       "    .dataframe tbody tr th:only-of-type {\n",
       "        vertical-align: middle;\n",
       "    }\n",
       "\n",
       "    .dataframe tbody tr th {\n",
       "        vertical-align: top;\n",
       "    }\n",
       "\n",
       "    .dataframe thead th {\n",
       "        text-align: right;\n",
       "    }\n",
       "</style>\n",
       "<table border=\"1\" class=\"dataframe\">\n",
       "  <thead>\n",
       "    <tr style=\"text-align: right;\">\n",
       "      <th></th>\n",
       "      <th>Rank</th>\n",
       "      <th>TeamId</th>\n",
       "      <th>TeamName</th>\n",
       "      <th>LastSubmissionDate</th>\n",
       "      <th>Score</th>\n",
       "      <th>SubmissionCount</th>\n",
       "      <th>TeamMemberUserNames</th>\n",
       "    </tr>\n",
       "  </thead>\n",
       "  <tbody>\n",
       "    <tr>\n",
       "      <th>0</th>\n",
       "      <td>1</td>\n",
       "      <td>12049454</td>\n",
       "      <td>Arsa Nikzad</td>\n",
       "      <td>2024-05-03 14:43:10</td>\n",
       "      <td>0.86930</td>\n",
       "      <td>5</td>\n",
       "      <td>arsanikzad</td>\n",
       "    </tr>\n",
       "    <tr>\n",
       "      <th>1</th>\n",
       "      <td>2</td>\n",
       "      <td>12044297</td>\n",
       "      <td>ChaosD</td>\n",
       "      <td>2024-05-03 21:41:31</td>\n",
       "      <td>0.86929</td>\n",
       "      <td>15</td>\n",
       "      <td>hipotures</td>\n",
       "    </tr>\n",
       "    <tr>\n",
       "      <th>2</th>\n",
       "      <td>3</td>\n",
       "      <td>12044276</td>\n",
       "      <td>Robert Hatch</td>\n",
       "      <td>2024-05-04 02:34:42</td>\n",
       "      <td>0.86927</td>\n",
       "      <td>11</td>\n",
       "      <td>roberthatch</td>\n",
       "    </tr>\n",
       "    <tr>\n",
       "      <th>3</th>\n",
       "      <td>4</td>\n",
       "      <td>12057857</td>\n",
       "      <td>SuM</td>\n",
       "      <td>2024-05-04 03:06:31</td>\n",
       "      <td>0.86927</td>\n",
       "      <td>10</td>\n",
       "      <td>cuboorandell</td>\n",
       "    </tr>\n",
       "    <tr>\n",
       "      <th>4</th>\n",
       "      <td>5</td>\n",
       "      <td>12048610</td>\n",
       "      <td>Yan Teixeira</td>\n",
       "      <td>2024-05-04 03:11:47</td>\n",
       "      <td>0.86926</td>\n",
       "      <td>19</td>\n",
       "      <td>yantxx</td>\n",
       "    </tr>\n",
       "  </tbody>\n",
       "</table>\n",
       "</div>"
      ],
      "text/plain": [
       "   Rank    TeamId      TeamName   LastSubmissionDate    Score  \\\n",
       "0     1  12049454   Arsa Nikzad  2024-05-03 14:43:10  0.86930   \n",
       "1     2  12044297        ChaosD  2024-05-03 21:41:31  0.86929   \n",
       "2     3  12044276  Robert Hatch  2024-05-04 02:34:42  0.86927   \n",
       "3     4  12057857           SuM  2024-05-04 03:06:31  0.86927   \n",
       "4     5  12048610  Yan Teixeira  2024-05-04 03:11:47  0.86926   \n",
       "\n",
       "   SubmissionCount TeamMemberUserNames  \n",
       "0                5          arsanikzad  \n",
       "1               15           hipotures  \n",
       "2               11         roberthatch  \n",
       "3               10        cuboorandell  \n",
       "4               19              yantxx  "
      ]
     },
     "execution_count": 10,
     "metadata": {},
     "output_type": "execute_result"
    }
   ],
   "source": [
    "df.head()"
   ]
  },
  {
   "cell_type": "code",
   "execution_count": 15,
   "metadata": {},
   "outputs": [],
   "source": [
    "df['Score'] = df['Score'].clip(0, 1)"
   ]
  },
  {
   "cell_type": "code",
   "execution_count": 24,
   "metadata": {},
   "outputs": [
    {
     "data": {
      "text/plain": [
       "Text(0.5, 1.0, 'Distribution of scores')"
      ]
     },
     "execution_count": 24,
     "metadata": {},
     "output_type": "execute_result"
    },
    {
     "data": {
      "image/png": "[encoded data removed]",
      "text/plain": [
       "<Figure size 900x300 with 1 Axes>"
      ]
     },
     "metadata": {},
     "output_type": "display_data"
    }
   ],
   "source": [
    "fig = plt.figure(figsize=(9,3))\n",
    "plt.hist(df['Score'], bins=[i*0.001 for i in range(1000)])\n",
    "plt.xlim((0.7, 0.9))\n",
    "plt.xlabel('Score')\n",
    "plt.ylabel('Counts')\n",
    "plt.title('Distribution of scores')\n"
   ]
  }
 ],
 "metadata": {
  "kernelspec": {
   "display_name": "Python 3 (ipykernel)",
   "language": "python",
   "name": "python3"
  },
  "language_info": {
   "codemirror_mode": {
    "name": "ipython",
    "version": 3
   },
   "file_extension": ".py",
   "mimetype": "text/x-python",
   "name": "python",
   "nbconvert_exporter": "python",
   "pygments_lexer": "ipython3",
   "version": "3.11.0"
  }
 },
 "nbformat": 4,
 "nbformat_minor": 2
}
