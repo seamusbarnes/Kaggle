{
 "cells": [
  {
   "cell_type": "code",
   "execution_count": 46,
   "metadata": {},
   "outputs": [],
   "source": [
    "import os\n",
    "from datetime import datetime\n",
    "\n",
    "import pandas as pd\n",
    "import numpy as np\n",
    "import matplotlib.pyplot as plt\n",
    "\n",
    "from sklearn.model_selection import RepeatedKFold, train_test_split, RepeatedStratifiedKFold, cross_val_score\n",
    "from sklearn.metrics import r2_score\n",
    "from xgboost import XGBRegressor\n",
    "\n",
    "from catboost import CatBoostRegressor"
   ]
  },
  {
   "cell_type": "code",
   "execution_count": 27,
   "metadata": {},
   "outputs": [
    {
     "name": "stdout",
     "output_type": "stream",
     "text": [
      "0.20000053669327175\n"
     ]
    }
   ],
   "source": [
    "path_to_train_data = 'playground_series/s04e05_regression_with_a_flood_prediction_dataset/data/train.csv'\n",
    "path_to_test_data = 'playground_series/s04e05_regression_with_a_flood_prediction_dataset/data/test.csv'\n",
    "\n",
    "train_df = pd.read_csv(path_to_train_data, index_col='id')\n",
    "\n",
    "def shrink_df(df, size=0.2):\n",
    "    _, df_small = train_test_split(df, test_size=size)\n",
    "    return df_small\n",
    "\n",
    "train_small = shrink_df(train_df)\n",
    "print(len(train_small)/len(train_df))\n",
    "\n",
    "features = train_df.columns[:-1]\n",
    "target = train_df.columns[-1]"
   ]
  },
  {
   "cell_type": "code",
   "execution_count": 28,
   "metadata": {},
   "outputs": [],
   "source": [
    "def cleaning(df):\n",
    "    df['mean_feat'] = 0.1 * df[features].mean(axis=1)\n",
    "    df['std_feat'] = df[features].std(axis=1)\n",
    "    df['max_feat'] = df[features].max(axis=1)\n",
    "    df['min_feat'] = df[features].min(axis=1)\n",
    "    df['median_feat'] = 0.1 * df[features].median(axis=1)\n",
    "    df = df.drop(features, axis=1)\n",
    "    return df\n",
    "\n",
    "train_df = cleaning(train_df)\n",
    "\n",
    "X = train_df.drop(target, axis=1)\n",
    "y = train_df[target]\n",
    "\n",
    "X_train, X_val, y_train, y_val = train_test_split(X, y, test_size=0.2)"
   ]
  },
  {
   "cell_type": "code",
   "execution_count": 41,
   "metadata": {},
   "outputs": [
    {
     "name": "stdout",
     "output_type": "stream",
     "text": [
      "0.868742159112929\n"
     ]
    }
   ],
   "source": [
    "regressor = CatBoostRegressor(n_estimators=1000, verbose=False)\n",
    "regressor.fit(X_train, y_train, verbose=False)\n",
    "\n",
    "print(r2_score(y_val, regressor.predict(X_val)))"
   ]
  },
  {
   "cell_type": "code",
   "execution_count": 50,
   "metadata": {},
   "outputs": [
    {
     "data": {
      "image/png": "[encoded data removed]",
      "text/plain": [
       "<Figure size 900x300 with 1 Axes>"
      ]
     },
     "metadata": {},
     "output_type": "display_data"
    }
   ],
   "source": [
    "test_df = pd.read_csv(path_to_test_data)\n",
    "test_ids = test_df['id']\n",
    "test_df.drop('id', axis=1)\n",
    "test_df = cleaning(test_df)\n",
    "\n",
    "test_predictions = regressor.predict(test_df)\n",
    "\n",
    "plt.figure(figsize=(9,3))\n",
    "plt.hist(test_predictions, bins=[i*0.001 for i in range(1000)])\n",
    "plt.show()"
   ]
  },
  {
   "cell_type": "code",
   "execution_count": 53,
   "metadata": {},
   "outputs": [],
   "source": [
    "sub = pd.DataFrame({'id': test_ids, target: test_predictions})\n",
    "sub.to_csv('submission_featEng_01.csv', index=False)"
   ]
  },
  {
   "cell_type": "code",
   "execution_count": null,
   "metadata": {},
   "outputs": [],
   "source": []
  }
 ],
 "metadata": {
  "kernelspec": {
   "display_name": "Python 3 (ipykernel)",
   "language": "python",
   "name": "python3"
  }
 },
 "nbformat": 4,
 "nbformat_minor": 2
}
