{
 "cells": [
  {
   "cell_type": "code",
   "execution_count": 1,
   "metadata": {},
   "outputs": [],
   "source": [
    "import os\n",
    "import warnings\n",
    "warnings.filterwarnings('ignore')\n",
    "\n",
    "import pandas as pd\n",
    "import numpy as np\n",
    "\n",
    "import matplotlib.pyplot as plt\n",
    "import seaborn as sns\n",
    "\n",
    "from sklearn.base import clone\n",
    "from sklearn.model_selection import KFold, StratifiedKFold, train_test_split, cross_val_score\n",
    "from sklearn.pipeline import make_pipeline, Pipeline\n",
    "from sklearn.compose import TransformedTargetRegressor, ColumnTransformer\n",
    "from sklearn.preprocessing import StandardScaler, OneHotEncoder, PolynomialFeatures\n",
    "from sklearn.kernel_approximation import Nystroem\n",
    "from sklearn.linear_model import Ridge\n",
    "from sklearn.isotonic import IsotonicRegression\n",
    "from sklearn.ensemble import RandomForestRegressor, GradientBoostingRegressor, ExtraTreesRegressor, HistGradientBoostingRegressor\n",
    "from sklearn.neighbors import KNeighborsRegressor\n",
    "from sklearn.metrics import mean_squared_log_error, make_scorer\n",
    "import xgboost\n",
    "import lightgbm\n",
    "import catboost\n",
    "\n",
    "import torch\n",
    "import torch.nn as nn\n",
    "import torch.optim as optim\n",
    "import torch.nn.functional as F\n",
    "from torch.utils.data import DataLoader, TensorDataset\n",
    "\n",
    "import optuna"
   ]
  },
  {
   "cell_type": "code",
   "execution_count": 41,
   "metadata": {},
   "outputs": [],
   "source": [
    "COMPUTE_TEST_PRED = True\n",
    "\n",
    "path_to_train = os.path.join('data','train.csv')\n",
    "path_to_test = os.path.join('data','test.csv')\n",
    "\n",
    "train_df = pd.read_csv(path_to_train)\n",
    "test_df = pd.read_csv(path_to_test)\n",
    "\n",
    "def clean_and_feature_eng(df):\n",
    "    data = df.dropna()\n",
    "    data = pd.get_dummies(data, columns=['Sex'], drop_first=True, dtype=float)\n",
    "    data.fillna(data.mean(), inplace=True)\n",
    "    return data\n",
    "\n",
    "train_df = clean_and_feature_eng(train_df)\n",
    "test_df = clean_and_feature_eng(test_df)"
   ]
  },
  {
   "cell_type": "code",
   "execution_count": 42,
   "metadata": {},
   "outputs": [
    {
     "data": {
      "text/plain": [
       "Index(['id', 'Length', 'Diameter', 'Height', 'Whole weight', 'Whole weight.1',\n",
       "       'Whole weight.2', 'Shell weight', 'Rings', 'Sex_I', 'Sex_M'],\n",
       "      dtype='object')"
      ]
     },
     "execution_count": 42,
     "metadata": {},
     "output_type": "execute_result"
    }
   ],
   "source": [
    "train_df.columns"
   ]
  },
  {
   "cell_type": "code",
   "execution_count": 43,
   "metadata": {},
   "outputs": [],
   "source": [
    "oof, predictions_test = {}, {}\n",
    "\n",
    "numeric_features = [\n",
    "    'Length',\n",
    "    'Diameter',\n",
    "    'Height',\n",
    "    'Whole weight',\n",
    "    'Whole weight.1',\n",
    "    'Whole weight.2',\n",
    "    'Shell weight',\n",
    "    'Sex_I',\n",
    "    'Sex_M']\n",
    "\n",
    "numeric_vars = numeric_features + ['Rings']\n",
    "\n",
    "log_features = []\n",
    "for col in numeric_features:\n",
    "    train_df[f'log_{col}'] = np.log1p(train_df[col])\n",
    "    test_df[f'log_{col}'] = np.log1p(test_df[col])\n",
    "    log_features.append(f'log_{col}')\n"
   ]
  },
  {
   "cell_type": "code",
   "execution_count": 73,
   "metadata": {},
   "outputs": [],
   "source": [
    "def cross_validate(model, label, features=numeric_features, n_repeats=1):\n",
    "    scores = []\n",
    "    oof_preds = np.full_like(train_df.Rings, np.nan, dtype=float)\n",
    "    kFold = StratifiedKFold(n_splits=5, shuffle=True)\n",
    "\n",
    "    for fold, (idx_train, idx_val) in enumerate(kFold.split(train_df, train_df.Rings)):\n",
    "        X_train = train_df.iloc[idx_train][features]\n",
    "        X_val = train_df.iloc[idx_val][features]\n",
    "        y_train = train_df.iloc[idx_train].Rings\n",
    "        y_val = train_df.iloc[idx_val].Rings\n",
    "\n",
    "        y_pred = np.zeros_like(y_val, dtype=float)\n",
    "        \n",
    "        for i in range(n_repeats):\n",
    "            m = clone(model)\n",
    "\n",
    "            if n_repeats > 1:\n",
    "                mm = m\n",
    "                if isinstance(mm, TransformedTargetRegressor):\n",
    "                    mm = mm.regressor\n",
    "                mm.set_params(random_state=i)\n",
    "            \n",
    "            m.fit(X_train, y_train)\n",
    "            y_pred += m.predict(X_val)\n",
    "\n",
    "        y_pred /= n_repeats\n",
    "        y_pred = y_pred.clip(1, 29)\n",
    "\n",
    "        score = mean_squared_log_error(y_val, y_pred, squared=False)\n",
    "\n",
    "        scores.append(score)\n",
    "        oof_preds[idx_val] = y_pred\n",
    "        print(f'fold #: {fold}, score: {score:.4f}')\n",
    "\n",
    "    oof[label] = oof_preds\n",
    "    # print(f'scores: {[f\"{score:.4f}\" for score in scores]}')\n",
    "    print(f'overall RMSLE: {np.array(scores).mean():.4f}')\n",
    "\n",
    "    if COMPUTE_TEST_PRED:\n",
    "        y_pred = np.zeros(len(test_df), dtype=float)\n",
    "        for i in range(n_repeats):\n",
    "            m = clone(m)\n",
    "            if n_repeats > 1:\n",
    "                mm = m\n",
    "                if isinstance(mm, TransformedTargetRegressor):\n",
    "                    mm = mm.regressor\n",
    "                mm.set_params(random_state=i)\n",
    "            m.fit(train_df[features], train_df.Rings)\n",
    "            y_pred += m.predict(test_df[features])\n",
    "        y_pred /= n_repeats\n",
    "        y_pred = y_pred.clip(1, 29)\n",
    "        predictions_test[label] = y_pred\n",
    "\n",
    "custom_column_transformer = ColumnTransformer(\n",
    "    [('ohe', OneHotEncoder(), ['Sex'])],\n",
    "    remainder='passthrough')"
   ]
  },
  {
   "cell_type": "code",
   "execution_count": 74,
   "metadata": {},
   "outputs": [
    {
     "name": "stdout",
     "output_type": "stream",
     "text": [
      "fold #: 0, score: 0.1546\n",
      "fold #: 1, score: 0.1527\n",
      "fold #: 2, score: 0.1528\n",
      "fold #: 3, score: 0.1534\n",
      "fold #: 4, score: 0.1543\n",
      "overall RMSLE: 0.1536\n",
      "CPU times: user 1min 25s, sys: 6.72 s, total: 1min 32s\n",
      "Wall time: 11.1 s\n"
     ]
    }
   ],
   "source": [
    "%%time\n",
    "model = make_pipeline(\n",
    "    StandardScaler(),\n",
    "    PolynomialFeatures(degree=3),\n",
    "    TransformedTargetRegressor(\n",
    "        Ridge(0.01),\n",
    "        func=np.log1p,\n",
    "        inverse_func=np.expm1\n",
    "    )\n",
    ")\n",
    "cross_validate(model, 'Poly-Ridge', numeric_features+log_features)"
   ]
  },
  {
   "cell_type": "code",
   "execution_count": 75,
   "metadata": {},
   "outputs": [
    {
     "name": "stdout",
     "output_type": "stream",
     "text": [
      "fold #: 0, score: 0.1521\n",
      "fold #: 1, score: 0.1520\n",
      "fold #: 2, score: 0.1511\n",
      "fold #: 3, score: 0.1523\n",
      "fold #: 4, score: 0.1511\n",
      "overall RMSLE: 0.1517\n",
      "CPU times: user 1min 3s, sys: 10.6 s, total: 1min 13s\n",
      "Wall time: 7.85 s\n"
     ]
    }
   ],
   "source": [
    "%%time\n",
    "model = make_pipeline(\n",
    "    StandardScaler(),\n",
    "    Nystroem(n_components=500),\n",
    "    TransformedTargetRegressor(\n",
    "        Ridge(0.1),\n",
    "        func=np.log1p,\n",
    "        inverse_func=np.expm1\n",
    "    )\n",
    ")\n",
    "cross_validate(model, 'Poly-Ridge', numeric_features+log_features)"
   ]
  },
  {
   "cell_type": "code",
   "execution_count": 40,
   "metadata": {},
   "outputs": [
    {
     "name": "stdout",
     "output_type": "stream",
     "text": [
      "fold #: 0; RMSLE: 0.15543\n",
      "fold #: 1; RMSLE: 0.15408\n",
      "fold #: 2; RMSLE: 0.15479\n",
      "fold #: 3; RMSLE: 0.15406\n",
      "fold #: 4; RMSLE: 0.15503\n",
      "overall RMSLE: 0.15468\n",
      "CPU times: user 4.39 s, sys: 27.3 ms, total: 4.41 s\n",
      "Wall time: 4.42 s\n"
     ]
    }
   ],
   "source": [
    "%%time\n",
    "model = make_pipeline(\n",
    "    StandardScaler(),\n",
    "    TransformedTargetRegressor(\n",
    "        KNeighborsRegressor(n_neighbors=50),\n",
    "        func=np.log1p,\n",
    "        inverse_func=np.expm1\n",
    "    )\n",
    ")\n",
    "cross_validate(model, 'KNN', log_features)"
   ]
  },
  {
   "cell_type": "code",
   "execution_count": 47,
   "metadata": {},
   "outputs": [
    {
     "name": "stdout",
     "output_type": "stream",
     "text": [
      "fold #: 0; RMSLE: 0.15058\n",
      "fold #: 1; RMSLE: 0.14954\n",
      "fold #: 2; RMSLE: 0.14891\n",
      "fold #: 3; RMSLE: 0.15189\n",
      "fold #: 4; RMSLE: 0.15045\n",
      "overall RMSLE: 0.15027\n",
      "CPU times: user 2min 54s, sys: 370 ms, total: 2min 55s\n",
      "Wall time: 2min 56s\n"
     ]
    }
   ],
   "source": [
    "%%time\n",
    "model = make_pipeline(\n",
    "    TransformedTargetRegressor(\n",
    "        RandomForestRegressor(n_estimators=200, min_samples_leaf=7),\n",
    "        func=np.log1p,\n",
    "        inverse_func=np.expm1\n",
    "    )\n",
    ")\n",
    "cross_validate(model, 'RandomForest', log_features)"
   ]
  },
  {
   "cell_type": "code",
   "execution_count": 48,
   "metadata": {},
   "outputs": [
    {
     "name": "stdout",
     "output_type": "stream",
     "text": [
      "fold #: 0; RMSLE: 0.15223\n",
      "fold #: 1; RMSLE: 0.15134\n",
      "fold #: 2; RMSLE: 0.14967\n",
      "fold #: 3; RMSLE: 0.15079\n",
      "fold #: 4; RMSLE: 0.15071\n",
      "overall RMSLE: 0.15095\n",
      "CPU times: user 57.8 s, sys: 277 ms, total: 58 s\n",
      "Wall time: 58.8 s\n"
     ]
    }
   ],
   "source": [
    "%%time\n",
    "model = make_pipeline(\n",
    "    TransformedTargetRegressor(\n",
    "        GradientBoostingRegressor(n_estimators=200, min_samples_leaf=7),\n",
    "        func = np.log1p,\n",
    "        inverse_func = np.expm1\n",
    "    )\n",
    ")\n",
    "cross_validate(model, 'GradientBoosted', log_features)"
   ]
  },
  {
   "cell_type": "code",
   "execution_count": 49,
   "metadata": {},
   "outputs": [
    {
     "name": "stdout",
     "output_type": "stream",
     "text": [
      "fold #: 0; RMSLE: 0.14996\n",
      "fold #: 1; RMSLE: 0.14904\n",
      "fold #: 2; RMSLE: 0.15131\n",
      "fold #: 3; RMSLE: 0.15129\n",
      "fold #: 4; RMSLE: 0.15069\n",
      "overall RMSLE: 0.15046\n",
      "CPU times: user 58.6 s, sys: 210 ms, total: 58.8 s\n",
      "Wall time: 59.1 s\n"
     ]
    }
   ],
   "source": [
    "%%time\n",
    "model = make_pipeline(\n",
    "    TransformedTargetRegressor(ExtraTreesRegressor(n_estimators=200, min_samples_leaf=7),\n",
    "    func = np.log1p,\n",
    "    inverse_func = np.expm1\n",
    "    )\n",
    ")\n",
    "cross_validate(model, 'ExtraTrees', log_features)"
   ]
  },
  {
   "cell_type": "code",
   "execution_count": 52,
   "metadata": {},
   "outputs": [
    {
     "name": "stdout",
     "output_type": "stream",
     "text": [
      "fold #: 0; RMSLE: 0.14929\n",
      "fold #: 1; RMSLE: 0.14718\n",
      "fold #: 2; RMSLE: 0.14748\n",
      "fold #: 3; RMSLE: 0.14956\n",
      "fold #: 4; RMSLE: 0.14939\n",
      "overall RMSLE: 0.14858\n",
      "CPU times: user 1min 11s, sys: 22.6 s, total: 1min 33s\n",
      "Wall time: 9.44 s\n"
     ]
    }
   ],
   "source": [
    "%%time\n",
    "xgb_params = {'grow_policy': 'depthwise',\n",
    "             'n_estimators': 300,\n",
    "             'learning_rate': 0.12696,\n",
    "             'res_lambda': 41.46839,\n",
    "             'min_child_weight': 3.76337,\n",
    "             'colsample_bytree': 0.73179,\n",
    "             'objective': 'reg:squarederror',\n",
    "             'tree_method': 'hist',\n",
    "             'gamma': 0,\n",
    "             'enable_categorical': True}\n",
    "\n",
    "model = TransformedTargetRegressor(xgboost.XGBRegressor(**xgb_params), func = np.log1p, inverse_func = np.expm1)\n",
    "cross_validate(model, 'XGBoost', log_features, n_repeats=5)"
   ]
  },
  {
   "cell_type": "code",
   "execution_count": 54,
   "metadata": {},
   "outputs": [
    {
     "name": "stdout",
     "output_type": "stream",
     "text": [
      "fold #: 0; RMSLE: 0.14931\n",
      "fold #: 1; RMSLE: 0.14781\n",
      "fold #: 2; RMSLE: 0.14842\n",
      "fold #: 3; RMSLE: 0.14753\n",
      "fold #: 4; RMSLE: 0.14755\n",
      "overall RMSLE: 0.14813\n",
      "CPU times: user 7min 31s, sys: 1min 36s, total: 9min 8s\n",
      "Wall time: 54.4 s\n"
     ]
    }
   ],
   "source": [
    "%%time\n",
    "lgbm_params = {'n_estimators': 1000,\n",
    "               'learning_rate': 0.03049275229875912,\n",
    "               'colsample_bytree': 0.6702510959773988,\n",
    "               'reg_lambda': 0.18167530315433994,\n",
    "               'min_child_samples': 102,\n",
    "               'num_leaves': 46,\n",
    "               'verbose': -1} # 0.14803\n",
    "\n",
    "model = TransformedTargetRegressor(\n",
    "    lightgbm.LGBMRegressor(**lgbm_params),\n",
    "    func=np.log1p,\n",
    "    inverse_func=np.expm1)\n",
    "cross_validate(model, 'lightGBM', numeric_features, n_repeats=5)"
   ]
  },
  {
   "cell_type": "code",
   "execution_count": 76,
   "metadata": {},
   "outputs": [
    {
     "name": "stdout",
     "output_type": "stream",
     "text": [
      "fold #: 0, score: 0.1482\n",
      "fold #: 1, score: 0.1483\n",
      "fold #: 2, score: 0.1477\n",
      "fold #: 3, score: 0.1479\n",
      "fold #: 4, score: 0.1466\n",
      "overall RMSLE: 0.1477\n",
      "CPU times: user 8min 26s, sys: 2min 18s, total: 10min 45s\n",
      "Wall time: 1min 7s\n"
     ]
    }
   ],
   "source": [
    "%%time\n",
    "lgbm_params = {'n_estimators': 1000,\n",
    "               'learning_rate': 0.038622511348472645,\n",
    "               'max_bin': 2048,\n",
    "               'colsample_bytree': 0.5757189042456357,\n",
    "               'reg_lambda': 0.09664116733307193,\n",
    "               'min_child_samples': 87,\n",
    "               'num_leaves': 43,\n",
    "               'verbose': -1}\n",
    "\n",
    "model = TransformedTargetRegressor(\n",
    "    lightgbm.LGBMRegressor(**lgbm_params),\n",
    "    func=np.sqrt,\n",
    "    inverse_func=np.square)\n",
    "cross_validate(model, 'LightGBM-sqrt', numeric_features, n_repeats=5)"
   ]
  },
  {
   "cell_type": "code",
   "execution_count": 79,
   "metadata": {},
   "outputs": [
    {
     "name": "stdout",
     "output_type": "stream",
     "text": [
      "fold #: 0, score: 0.1486\n",
      "fold #: 1, score: 0.1483\n",
      "fold #: 2, score: 0.1479\n",
      "fold #: 3, score: 0.1488\n",
      "fold #: 4, score: 0.1489\n",
      "overall RMSLE: 0.1485\n"
     ]
    }
   ],
   "source": [
    "cb_params = {'grow_policy': 'SymmetricTree',\n",
    "             'n_estimators': 1000,\n",
    "             'learning_rate': 0.12909209153923812,\n",
    "             'l2_leaf_reg': 24.368207730414547,\n",
    "             'max_depth': 8,\n",
    "             'colsample_bylevel': 0.5018730598197876,\n",
    "             'boost_from_average': True,\n",
    "             'loss_function': 'RMSE',\n",
    "             'verbose': 0} # 0.14879\n",
    "\n",
    "model = TransformedTargetRegressor(catboost.CatBoostRegressor(**cb_params),\n",
    "                                                 func=np.log1p,\n",
    "                                                 inverse_func=np.expm1)\n",
    "cross_validate(model, 'Catboost', log_features, n_repeats=5)"
   ]
  },
  {
   "cell_type": "code",
   "execution_count": 80,
   "metadata": {},
   "outputs": [
    {
     "name": "stdout",
     "output_type": "stream",
     "text": [
      "fold #: 0, score: 0.1481\n",
      "fold #: 1, score: 0.1464\n",
      "fold #: 2, score: 0.1477\n",
      "fold #: 3, score: 0.1490\n",
      "fold #: 4, score: 0.1476\n",
      "overall RMSLE: 0.1478\n"
     ]
    }
   ],
   "source": [
    "cb_params = {'grow_policy': 'Lossguide',\n",
    "             'n_estimators': 1000,\n",
    "             'learning_rate': 0.12444528932682379,\n",
    "             'max_bin': 2048,\n",
    "             'l2_leaf_reg': 41.57232155127747,\n",
    "             'min_child_samples': 75,\n",
    "             'colsample_bylevel': 0.9931075066636142,\n",
    "             'subsample': 0.9885992818939339,\n",
    "             'random_strength': 0.09223106939759793,\n",
    "             'boost_from_average': True,\n",
    "             'loss_function': 'RMSE',\n",
    "             'bootstrap_type': 'Bernoulli',\n",
    "             'verbose': False} # 0.14815\n",
    "model = TransformedTargetRegressor(catboost.CatBoostRegressor(**cb_params),\n",
    "                                                 func=np.log1p,\n",
    "                                                 inverse_func=np.expm1)\n",
    "cross_validate(model, 'Catboost-LG', log_features, n_repeats=5)\n",
    "# Overall: 0.14800 Catboost-LG   14 min with max_bin=254 (default)\n",
    "# Overall: 0.14762 Catboost-LG   17 min with max_bin=2048"
   ]
  },
  {
   "cell_type": "code",
   "execution_count": null,
   "metadata": {},
   "outputs": [],
   "source": [
    "%%time\n",
    "hgb_params = {'max_iter': 300,\n",
    "              'max_leaf_nodes': 43,\n",
    "              'early_stopping': False,\n",
    "              'learning_rate': 0.08019987638525192,\n",
    "              'min_samples_leaf': 37} # 0.14916\n",
    "\n",
    "model = make_pipeline(custom_column_transformer,\n",
    "                      TransformedTargetRegressor(\n",
    "                          HistGradientBoostingRegressor(**hgb_params),\n",
    "                          func=np.log1p,\n",
    "                          inverse_func=np.expm1))\n",
    "\n",
    "cross_validate(model, 'HGB', numeric_features + ['Sex'])"
   ]
  }
 ],
 "metadata": {
  "kernelspec": {
   "display_name": "Python 3 (ipykernel)",
   "language": "python",
   "name": "python3"
  },
  "language_info": {
   "codemirror_mode": {
    "name": "ipython",
    "version": 3
   },
   "file_extension": ".py",
   "mimetype": "text/x-python",
   "name": "python",
   "nbconvert_exporter": "python",
   "pygments_lexer": "ipython3",
   "version": "3.11.0"
  }
 },
 "nbformat": 4,
 "nbformat_minor": 2
}
